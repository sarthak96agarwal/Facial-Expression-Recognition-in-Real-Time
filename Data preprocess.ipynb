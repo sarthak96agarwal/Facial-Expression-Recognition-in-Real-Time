{
 "cells": [
  {
   "cell_type": "code",
   "execution_count": 13,
   "metadata": {},
   "outputs": [],
   "source": [
    "import numpy as np\n",
    "import pandas as pd\n",
    "import matplotlib.pyplot as plt\n",
    "import glob\n",
    "import os\n",
    "import cv2"
   ]
  },
  {
   "cell_type": "code",
   "execution_count": 118,
   "metadata": {},
   "outputs": [],
   "source": [
    "from scipy import misc\n",
    "from scipy import ndimage"
   ]
  },
  {
   "cell_type": "code",
   "execution_count": 120,
   "metadata": {},
   "outputs": [],
   "source": [
    "anger = glob.glob(\"./KDEF_and_AKDEF/sorted_set/anger/*\")\n",
    "for file in anger:\n",
    "    img = cv2.imread(file)\n",
    "    img_gauss = ndimage.gaussian_filter(img, sigma=2)\n",
    "    temp_file = \"Gauss_\" + str(file.split(\"/\")[-1])\n",
    "    dest = os.path.dirname(file) + '/'+ temp_file\n",
    "    plt.imsave(dest, img_gauss)"
   ]
  },
  {
   "cell_type": "code",
   "execution_count": 121,
   "metadata": {},
   "outputs": [],
   "source": [
    "disgust = glob.glob(\"./KDEF_and_AKDEF/sorted_set/disgust/*\")\n",
    "for file in disgust:\n",
    "    img = cv2.imread(file)\n",
    "    img_gauss = ndimage.gaussian_filter(img, sigma=2)\n",
    "    temp_file = \"Gauss_\" + str(file.split(\"/\")[-1])\n",
    "    dest = os.path.dirname(file) + '/'+ temp_file\n",
    "    plt.imsave(dest, img_gauss)"
   ]
  },
  {
   "cell_type": "code",
   "execution_count": 122,
   "metadata": {},
   "outputs": [],
   "source": [
    "fear = glob.glob(\"./KDEF_and_AKDEF/sorted_set/fear/*\")\n",
    "for file in fear:\n",
    "    img = cv2.imread(file)\n",
    "    img_gauss = ndimage.gaussian_filter(img, sigma=2)\n",
    "    temp_file = \"Gauss_\" + str(file.split(\"/\")[-1])\n",
    "    dest = os.path.dirname(file) + '/'+ temp_file\n",
    "    plt.imsave(dest, img_gauss)"
   ]
  },
  {
   "cell_type": "code",
   "execution_count": 123,
   "metadata": {},
   "outputs": [],
   "source": [
    "happy = glob.glob(\"./KDEF_and_AKDEF/sorted_set/happy/*\")\n",
    "for file in happy:\n",
    "    img = cv2.imread(file)\n",
    "    img_gauss = ndimage.gaussian_filter(img, sigma=2)\n",
    "    temp_file = \"Gauss_\" + str(file.split(\"/\")[-1])\n",
    "    dest = os.path.dirname(file) + '/'+ temp_file\n",
    "    plt.imsave(dest, img_gauss)"
   ]
  },
  {
   "cell_type": "code",
   "execution_count": 124,
   "metadata": {},
   "outputs": [],
   "source": [
    "neutral = glob.glob(\"./KDEF_and_AKDEF/sorted_set/neutral/*\")\n",
    "for file in neutral:\n",
    "    img = cv2.imread(file)\n",
    "    img_gauss = ndimage.gaussian_filter(img, sigma=2)\n",
    "    temp_file = \"Gauss_\" + str(file.split(\"/\")[-1])\n",
    "    dest = os.path.dirname(file) + '/'+ temp_file\n",
    "    plt.imsave(dest, img_gauss)"
   ]
  },
  {
   "cell_type": "code",
   "execution_count": 125,
   "metadata": {},
   "outputs": [],
   "source": [
    "sadness = glob.glob(\"./KDEF_and_AKDEF/sorted_set/sadness/*\")\n",
    "for file in sadness:\n",
    "    img = cv2.imread(file)\n",
    "    img_gauss = ndimage.gaussian_filter(img, sigma=2)\n",
    "    temp_file = \"Gauss_\" + str(file.split(\"/\")[-1])\n",
    "    dest = os.path.dirname(file) + '/'+ temp_file\n",
    "    plt.imsave(dest, img_gauss)"
   ]
  },
  {
   "cell_type": "code",
   "execution_count": 126,
   "metadata": {},
   "outputs": [],
   "source": [
    "surprise = glob.glob(\"./KDEF_and_AKDEF/sorted_set/surprise/*\")\n",
    "for file in surprise:\n",
    "    img = cv2.imread(file)\n",
    "    img_gauss = ndimage.gaussian_filter(img, sigma=2)\n",
    "    temp_file = \"Gauss_\" + str(file.split(\"/\")[-1])\n",
    "    dest = os.path.dirname(file) + '/'+ temp_file\n",
    "    plt.imsave(dest, img_gauss)"
   ]
  },
  {
   "cell_type": "code",
   "execution_count": 127,
   "metadata": {},
   "outputs": [
    {
     "name": "stdout",
     "output_type": "stream",
     "text": [
      "Number of images in Angry emotion = 1400\n"
     ]
    },
    {
     "data": {
      "text/html": [
       "<div>\n",
       "<style scoped>\n",
       "    .dataframe tbody tr th:only-of-type {\n",
       "        vertical-align: middle;\n",
       "    }\n",
       "\n",
       "    .dataframe tbody tr th {\n",
       "        vertical-align: top;\n",
       "    }\n",
       "\n",
       "    .dataframe thead th {\n",
       "        text-align: right;\n",
       "    }\n",
       "</style>\n",
       "<table border=\"1\" class=\"dataframe\">\n",
       "  <thead>\n",
       "    <tr style=\"text-align: right;\">\n",
       "      <th></th>\n",
       "      <th>folder</th>\n",
       "      <th>image</th>\n",
       "      <th>Emotion</th>\n",
       "      <th>Labels</th>\n",
       "    </tr>\n",
       "  </thead>\n",
       "  <tbody>\n",
       "    <tr>\n",
       "      <th>0</th>\n",
       "      <td>./KDEF_and_AKDEF/sorted_set/anger</td>\n",
       "      <td>AF01ANFL.JPG</td>\n",
       "      <td>Anger</td>\n",
       "      <td>0</td>\n",
       "    </tr>\n",
       "    <tr>\n",
       "      <th>1</th>\n",
       "      <td>./KDEF_and_AKDEF/sorted_set/anger</td>\n",
       "      <td>AF01ANFR.JPG</td>\n",
       "      <td>Anger</td>\n",
       "      <td>0</td>\n",
       "    </tr>\n",
       "    <tr>\n",
       "      <th>2</th>\n",
       "      <td>./KDEF_and_AKDEF/sorted_set/anger</td>\n",
       "      <td>AF01ANHL.JPG</td>\n",
       "      <td>Anger</td>\n",
       "      <td>0</td>\n",
       "    </tr>\n",
       "    <tr>\n",
       "      <th>3</th>\n",
       "      <td>./KDEF_and_AKDEF/sorted_set/anger</td>\n",
       "      <td>AF01ANHR.JPG</td>\n",
       "      <td>Anger</td>\n",
       "      <td>0</td>\n",
       "    </tr>\n",
       "    <tr>\n",
       "      <th>4</th>\n",
       "      <td>./KDEF_and_AKDEF/sorted_set/anger</td>\n",
       "      <td>AF01ANS.JPG</td>\n",
       "      <td>Anger</td>\n",
       "      <td>0</td>\n",
       "    </tr>\n",
       "  </tbody>\n",
       "</table>\n",
       "</div>"
      ],
      "text/plain": [
       "                              folder         image Emotion  Labels\n",
       "0  ./KDEF_and_AKDEF/sorted_set/anger  AF01ANFL.JPG   Anger       0\n",
       "1  ./KDEF_and_AKDEF/sorted_set/anger  AF01ANFR.JPG   Anger       0\n",
       "2  ./KDEF_and_AKDEF/sorted_set/anger  AF01ANHL.JPG   Anger       0\n",
       "3  ./KDEF_and_AKDEF/sorted_set/anger  AF01ANHR.JPG   Anger       0\n",
       "4  ./KDEF_and_AKDEF/sorted_set/anger   AF01ANS.JPG   Anger       0"
      ]
     },
     "execution_count": 127,
     "metadata": {},
     "output_type": "execute_result"
    }
   ],
   "source": [
    "anger = glob.glob(\"./KDEF_and_AKDEF/sorted_set/anger/*\")\n",
    "print(\"Number of images in Angry emotion = \"+str(len(anger)))\n",
    "\n",
    "anger_folder = [os.path.dirname(i) for i in anger]\n",
    "anger_image = [str(i.split(\"/\")[-1]) for i in anger]\n",
    "anger_emotion = [[\"Anger\"]*len(anger)][0]\n",
    "anger_label = [0]*len(anger)\n",
    "\n",
    "df_anger = pd.DataFrame()\n",
    "df_anger[\"folder\"] = anger_folder\n",
    "df_anger[\"image\"] = anger_image\n",
    "df_anger[\"Emotion\"] = anger_emotion\n",
    "df_anger[\"Labels\"] = anger_label\n",
    "df_anger.head()"
   ]
  },
  {
   "cell_type": "code",
   "execution_count": 128,
   "metadata": {},
   "outputs": [
    {
     "name": "stdout",
     "output_type": "stream",
     "text": [
      "Number of images in disgust emotion = 1400\n"
     ]
    },
    {
     "data": {
      "text/html": [
       "<div>\n",
       "<style scoped>\n",
       "    .dataframe tbody tr th:only-of-type {\n",
       "        vertical-align: middle;\n",
       "    }\n",
       "\n",
       "    .dataframe tbody tr th {\n",
       "        vertical-align: top;\n",
       "    }\n",
       "\n",
       "    .dataframe thead th {\n",
       "        text-align: right;\n",
       "    }\n",
       "</style>\n",
       "<table border=\"1\" class=\"dataframe\">\n",
       "  <thead>\n",
       "    <tr style=\"text-align: right;\">\n",
       "      <th></th>\n",
       "      <th>folder</th>\n",
       "      <th>image</th>\n",
       "      <th>Emotion</th>\n",
       "      <th>Labels</th>\n",
       "    </tr>\n",
       "  </thead>\n",
       "  <tbody>\n",
       "    <tr>\n",
       "      <th>0</th>\n",
       "      <td>./KDEF_and_AKDEF/sorted_set/disgust</td>\n",
       "      <td>AF01DIFL.JPG</td>\n",
       "      <td>disgust</td>\n",
       "      <td>1</td>\n",
       "    </tr>\n",
       "    <tr>\n",
       "      <th>1</th>\n",
       "      <td>./KDEF_and_AKDEF/sorted_set/disgust</td>\n",
       "      <td>AF01DIFR.JPG</td>\n",
       "      <td>disgust</td>\n",
       "      <td>1</td>\n",
       "    </tr>\n",
       "    <tr>\n",
       "      <th>2</th>\n",
       "      <td>./KDEF_and_AKDEF/sorted_set/disgust</td>\n",
       "      <td>AF01DIHL.JPG</td>\n",
       "      <td>disgust</td>\n",
       "      <td>1</td>\n",
       "    </tr>\n",
       "    <tr>\n",
       "      <th>3</th>\n",
       "      <td>./KDEF_and_AKDEF/sorted_set/disgust</td>\n",
       "      <td>AF01DIHR.JPG</td>\n",
       "      <td>disgust</td>\n",
       "      <td>1</td>\n",
       "    </tr>\n",
       "    <tr>\n",
       "      <th>4</th>\n",
       "      <td>./KDEF_and_AKDEF/sorted_set/disgust</td>\n",
       "      <td>AF01DIS.JPG</td>\n",
       "      <td>disgust</td>\n",
       "      <td>1</td>\n",
       "    </tr>\n",
       "  </tbody>\n",
       "</table>\n",
       "</div>"
      ],
      "text/plain": [
       "                                folder         image  Emotion  Labels\n",
       "0  ./KDEF_and_AKDEF/sorted_set/disgust  AF01DIFL.JPG  disgust       1\n",
       "1  ./KDEF_and_AKDEF/sorted_set/disgust  AF01DIFR.JPG  disgust       1\n",
       "2  ./KDEF_and_AKDEF/sorted_set/disgust  AF01DIHL.JPG  disgust       1\n",
       "3  ./KDEF_and_AKDEF/sorted_set/disgust  AF01DIHR.JPG  disgust       1\n",
       "4  ./KDEF_and_AKDEF/sorted_set/disgust   AF01DIS.JPG  disgust       1"
      ]
     },
     "execution_count": 128,
     "metadata": {},
     "output_type": "execute_result"
    }
   ],
   "source": [
    "disgust = glob.glob(\"./KDEF_and_AKDEF/sorted_set/disgust/*\")\n",
    "print(\"Number of images in disgust emotion = \"+str(len(disgust)))\n",
    "\n",
    "disgust_folder = [os.path.dirname(i) for i in disgust]\n",
    "disgust_image = [str(i.split(\"/\")[-1]) for i in disgust]\n",
    "disgust_emotion = [[\"disgust\"]*len(disgust)][0]\n",
    "disgust_label = [1]*len(disgust)\n",
    "\n",
    "df_disgust = pd.DataFrame()\n",
    "df_disgust[\"folder\"] = disgust_folder\n",
    "df_disgust[\"image\"] = disgust_image\n",
    "df_disgust[\"Emotion\"] = disgust_emotion\n",
    "df_disgust[\"Labels\"] = disgust_label\n",
    "df_disgust.head()"
   ]
  },
  {
   "cell_type": "code",
   "execution_count": 129,
   "metadata": {},
   "outputs": [
    {
     "name": "stdout",
     "output_type": "stream",
     "text": [
      "Number of images in fear emotion = 1400\n"
     ]
    },
    {
     "data": {
      "text/html": [
       "<div>\n",
       "<style scoped>\n",
       "    .dataframe tbody tr th:only-of-type {\n",
       "        vertical-align: middle;\n",
       "    }\n",
       "\n",
       "    .dataframe tbody tr th {\n",
       "        vertical-align: top;\n",
       "    }\n",
       "\n",
       "    .dataframe thead th {\n",
       "        text-align: right;\n",
       "    }\n",
       "</style>\n",
       "<table border=\"1\" class=\"dataframe\">\n",
       "  <thead>\n",
       "    <tr style=\"text-align: right;\">\n",
       "      <th></th>\n",
       "      <th>folder</th>\n",
       "      <th>image</th>\n",
       "      <th>Emotion</th>\n",
       "      <th>Labels</th>\n",
       "    </tr>\n",
       "  </thead>\n",
       "  <tbody>\n",
       "    <tr>\n",
       "      <th>0</th>\n",
       "      <td>./KDEF_and_AKDEF/sorted_set/fear</td>\n",
       "      <td>AF01AFFL.JPG</td>\n",
       "      <td>fear</td>\n",
       "      <td>2</td>\n",
       "    </tr>\n",
       "    <tr>\n",
       "      <th>1</th>\n",
       "      <td>./KDEF_and_AKDEF/sorted_set/fear</td>\n",
       "      <td>AF01AFFR.JPG</td>\n",
       "      <td>fear</td>\n",
       "      <td>2</td>\n",
       "    </tr>\n",
       "    <tr>\n",
       "      <th>2</th>\n",
       "      <td>./KDEF_and_AKDEF/sorted_set/fear</td>\n",
       "      <td>AF01AFHL.JPG</td>\n",
       "      <td>fear</td>\n",
       "      <td>2</td>\n",
       "    </tr>\n",
       "    <tr>\n",
       "      <th>3</th>\n",
       "      <td>./KDEF_and_AKDEF/sorted_set/fear</td>\n",
       "      <td>AF01AFHR.JPG</td>\n",
       "      <td>fear</td>\n",
       "      <td>2</td>\n",
       "    </tr>\n",
       "    <tr>\n",
       "      <th>4</th>\n",
       "      <td>./KDEF_and_AKDEF/sorted_set/fear</td>\n",
       "      <td>AF01AFS.JPG</td>\n",
       "      <td>fear</td>\n",
       "      <td>2</td>\n",
       "    </tr>\n",
       "  </tbody>\n",
       "</table>\n",
       "</div>"
      ],
      "text/plain": [
       "                             folder         image Emotion  Labels\n",
       "0  ./KDEF_and_AKDEF/sorted_set/fear  AF01AFFL.JPG    fear       2\n",
       "1  ./KDEF_and_AKDEF/sorted_set/fear  AF01AFFR.JPG    fear       2\n",
       "2  ./KDEF_and_AKDEF/sorted_set/fear  AF01AFHL.JPG    fear       2\n",
       "3  ./KDEF_and_AKDEF/sorted_set/fear  AF01AFHR.JPG    fear       2\n",
       "4  ./KDEF_and_AKDEF/sorted_set/fear   AF01AFS.JPG    fear       2"
      ]
     },
     "execution_count": 129,
     "metadata": {},
     "output_type": "execute_result"
    }
   ],
   "source": [
    "fear = glob.glob(\"./KDEF_and_AKDEF/sorted_set/fear/*\")\n",
    "print(\"Number of images in fear emotion = \"+str(len(fear)))\n",
    "\n",
    "fear_folder = [os.path.dirname(i) for i in fear]\n",
    "fear_image = [str(i.split(\"/\")[-1]) for i in fear]\n",
    "fear_emotion = [[\"fear\"]*len(fear)][0]\n",
    "fear_label = [2]*len(fear)\n",
    "\n",
    "df_fear = pd.DataFrame()\n",
    "df_fear[\"folder\"] = fear_folder\n",
    "df_fear[\"image\"] = fear_image\n",
    "df_fear[\"Emotion\"] = fear_emotion\n",
    "df_fear[\"Labels\"] = fear_label\n",
    "df_fear.head()"
   ]
  },
  {
   "cell_type": "code",
   "execution_count": 130,
   "metadata": {},
   "outputs": [
    {
     "name": "stdout",
     "output_type": "stream",
     "text": [
      "Number of images in happy emotion = 1400\n"
     ]
    },
    {
     "data": {
      "text/html": [
       "<div>\n",
       "<style scoped>\n",
       "    .dataframe tbody tr th:only-of-type {\n",
       "        vertical-align: middle;\n",
       "    }\n",
       "\n",
       "    .dataframe tbody tr th {\n",
       "        vertical-align: top;\n",
       "    }\n",
       "\n",
       "    .dataframe thead th {\n",
       "        text-align: right;\n",
       "    }\n",
       "</style>\n",
       "<table border=\"1\" class=\"dataframe\">\n",
       "  <thead>\n",
       "    <tr style=\"text-align: right;\">\n",
       "      <th></th>\n",
       "      <th>folder</th>\n",
       "      <th>image</th>\n",
       "      <th>Emotion</th>\n",
       "      <th>Labels</th>\n",
       "    </tr>\n",
       "  </thead>\n",
       "  <tbody>\n",
       "    <tr>\n",
       "      <th>0</th>\n",
       "      <td>./KDEF_and_AKDEF/sorted_set/happy</td>\n",
       "      <td>AF01HAFL.JPG</td>\n",
       "      <td>happy</td>\n",
       "      <td>3</td>\n",
       "    </tr>\n",
       "    <tr>\n",
       "      <th>1</th>\n",
       "      <td>./KDEF_and_AKDEF/sorted_set/happy</td>\n",
       "      <td>AF01HAFR.JPG</td>\n",
       "      <td>happy</td>\n",
       "      <td>3</td>\n",
       "    </tr>\n",
       "    <tr>\n",
       "      <th>2</th>\n",
       "      <td>./KDEF_and_AKDEF/sorted_set/happy</td>\n",
       "      <td>AF01HAHL.JPG</td>\n",
       "      <td>happy</td>\n",
       "      <td>3</td>\n",
       "    </tr>\n",
       "    <tr>\n",
       "      <th>3</th>\n",
       "      <td>./KDEF_and_AKDEF/sorted_set/happy</td>\n",
       "      <td>AF01HAHR.JPG</td>\n",
       "      <td>happy</td>\n",
       "      <td>3</td>\n",
       "    </tr>\n",
       "    <tr>\n",
       "      <th>4</th>\n",
       "      <td>./KDEF_and_AKDEF/sorted_set/happy</td>\n",
       "      <td>AF01HAS.JPG</td>\n",
       "      <td>happy</td>\n",
       "      <td>3</td>\n",
       "    </tr>\n",
       "  </tbody>\n",
       "</table>\n",
       "</div>"
      ],
      "text/plain": [
       "                              folder         image Emotion  Labels\n",
       "0  ./KDEF_and_AKDEF/sorted_set/happy  AF01HAFL.JPG   happy       3\n",
       "1  ./KDEF_and_AKDEF/sorted_set/happy  AF01HAFR.JPG   happy       3\n",
       "2  ./KDEF_and_AKDEF/sorted_set/happy  AF01HAHL.JPG   happy       3\n",
       "3  ./KDEF_and_AKDEF/sorted_set/happy  AF01HAHR.JPG   happy       3\n",
       "4  ./KDEF_and_AKDEF/sorted_set/happy   AF01HAS.JPG   happy       3"
      ]
     },
     "execution_count": 130,
     "metadata": {},
     "output_type": "execute_result"
    }
   ],
   "source": [
    "happy = glob.glob(\"./KDEF_and_AKDEF/sorted_set/happy/*\")\n",
    "print(\"Number of images in happy emotion = \"+str(len(happy)))\n",
    "\n",
    "happy_folder = [os.path.dirname(i) for i in happy]\n",
    "happy_image = [str(i.split(\"/\")[-1]) for i in happy]\n",
    "happy_emotion = [[\"happy\"]*len(happy)][0]\n",
    "happy_label = [3]*len(happy)\n",
    "\n",
    "df_happy = pd.DataFrame()\n",
    "df_happy[\"folder\"] = happy_folder\n",
    "df_happy[\"image\"] = happy_image\n",
    "df_happy[\"Emotion\"] = happy_emotion\n",
    "df_happy[\"Labels\"] = happy_label\n",
    "df_happy.head()"
   ]
  },
  {
   "cell_type": "code",
   "execution_count": 131,
   "metadata": {},
   "outputs": [
    {
     "name": "stdout",
     "output_type": "stream",
     "text": [
      "Number of images in neutral emotion = 1400\n"
     ]
    },
    {
     "data": {
      "text/html": [
       "<div>\n",
       "<style scoped>\n",
       "    .dataframe tbody tr th:only-of-type {\n",
       "        vertical-align: middle;\n",
       "    }\n",
       "\n",
       "    .dataframe tbody tr th {\n",
       "        vertical-align: top;\n",
       "    }\n",
       "\n",
       "    .dataframe thead th {\n",
       "        text-align: right;\n",
       "    }\n",
       "</style>\n",
       "<table border=\"1\" class=\"dataframe\">\n",
       "  <thead>\n",
       "    <tr style=\"text-align: right;\">\n",
       "      <th></th>\n",
       "      <th>folder</th>\n",
       "      <th>image</th>\n",
       "      <th>Emotion</th>\n",
       "      <th>Labels</th>\n",
       "    </tr>\n",
       "  </thead>\n",
       "  <tbody>\n",
       "    <tr>\n",
       "      <th>0</th>\n",
       "      <td>./KDEF_and_AKDEF/sorted_set/neutral</td>\n",
       "      <td>AF01NEFL.JPG</td>\n",
       "      <td>neutral</td>\n",
       "      <td>4</td>\n",
       "    </tr>\n",
       "    <tr>\n",
       "      <th>1</th>\n",
       "      <td>./KDEF_and_AKDEF/sorted_set/neutral</td>\n",
       "      <td>AF01NEFR.JPG</td>\n",
       "      <td>neutral</td>\n",
       "      <td>4</td>\n",
       "    </tr>\n",
       "    <tr>\n",
       "      <th>2</th>\n",
       "      <td>./KDEF_and_AKDEF/sorted_set/neutral</td>\n",
       "      <td>AF01NEHL.JPG</td>\n",
       "      <td>neutral</td>\n",
       "      <td>4</td>\n",
       "    </tr>\n",
       "    <tr>\n",
       "      <th>3</th>\n",
       "      <td>./KDEF_and_AKDEF/sorted_set/neutral</td>\n",
       "      <td>AF01NEHR.JPG</td>\n",
       "      <td>neutral</td>\n",
       "      <td>4</td>\n",
       "    </tr>\n",
       "    <tr>\n",
       "      <th>4</th>\n",
       "      <td>./KDEF_and_AKDEF/sorted_set/neutral</td>\n",
       "      <td>AF01NES.JPG</td>\n",
       "      <td>neutral</td>\n",
       "      <td>4</td>\n",
       "    </tr>\n",
       "  </tbody>\n",
       "</table>\n",
       "</div>"
      ],
      "text/plain": [
       "                                folder         image  Emotion  Labels\n",
       "0  ./KDEF_and_AKDEF/sorted_set/neutral  AF01NEFL.JPG  neutral       4\n",
       "1  ./KDEF_and_AKDEF/sorted_set/neutral  AF01NEFR.JPG  neutral       4\n",
       "2  ./KDEF_and_AKDEF/sorted_set/neutral  AF01NEHL.JPG  neutral       4\n",
       "3  ./KDEF_and_AKDEF/sorted_set/neutral  AF01NEHR.JPG  neutral       4\n",
       "4  ./KDEF_and_AKDEF/sorted_set/neutral   AF01NES.JPG  neutral       4"
      ]
     },
     "execution_count": 131,
     "metadata": {},
     "output_type": "execute_result"
    }
   ],
   "source": [
    "neutral = glob.glob(\"./KDEF_and_AKDEF/sorted_set/neutral/*\")\n",
    "print(\"Number of images in neutral emotion = \"+str(len(neutral)))\n",
    "\n",
    "neutral_folder = [os.path.dirname(i) for i in neutral]\n",
    "neutral_image = [str(i.split(\"/\")[-1]) for i in neutral]\n",
    "neutral_emotion = [[\"neutral\"]*len(neutral)][0]\n",
    "neutral_label = [4]*len(neutral)\n",
    "\n",
    "df_neutral = pd.DataFrame()\n",
    "df_neutral[\"folder\"] = neutral_folder\n",
    "df_neutral[\"image\"] = neutral_image\n",
    "df_neutral[\"Emotion\"] = neutral_emotion\n",
    "df_neutral[\"Labels\"] = neutral_label\n",
    "df_neutral.head()"
   ]
  },
  {
   "cell_type": "code",
   "execution_count": 132,
   "metadata": {},
   "outputs": [
    {
     "name": "stdout",
     "output_type": "stream",
     "text": [
      "Number of images in sadness emotion = 1398\n"
     ]
    },
    {
     "data": {
      "text/html": [
       "<div>\n",
       "<style scoped>\n",
       "    .dataframe tbody tr th:only-of-type {\n",
       "        vertical-align: middle;\n",
       "    }\n",
       "\n",
       "    .dataframe tbody tr th {\n",
       "        vertical-align: top;\n",
       "    }\n",
       "\n",
       "    .dataframe thead th {\n",
       "        text-align: right;\n",
       "    }\n",
       "</style>\n",
       "<table border=\"1\" class=\"dataframe\">\n",
       "  <thead>\n",
       "    <tr style=\"text-align: right;\">\n",
       "      <th></th>\n",
       "      <th>folder</th>\n",
       "      <th>image</th>\n",
       "      <th>Emotion</th>\n",
       "      <th>Labels</th>\n",
       "    </tr>\n",
       "  </thead>\n",
       "  <tbody>\n",
       "    <tr>\n",
       "      <th>0</th>\n",
       "      <td>./KDEF_and_AKDEF/sorted_set/sadness</td>\n",
       "      <td>AF01SAFL.JPG</td>\n",
       "      <td>sadness</td>\n",
       "      <td>5</td>\n",
       "    </tr>\n",
       "    <tr>\n",
       "      <th>1</th>\n",
       "      <td>./KDEF_and_AKDEF/sorted_set/sadness</td>\n",
       "      <td>AF01SAFR.JPG</td>\n",
       "      <td>sadness</td>\n",
       "      <td>5</td>\n",
       "    </tr>\n",
       "    <tr>\n",
       "      <th>2</th>\n",
       "      <td>./KDEF_and_AKDEF/sorted_set/sadness</td>\n",
       "      <td>AF01SAHL.JPG</td>\n",
       "      <td>sadness</td>\n",
       "      <td>5</td>\n",
       "    </tr>\n",
       "    <tr>\n",
       "      <th>3</th>\n",
       "      <td>./KDEF_and_AKDEF/sorted_set/sadness</td>\n",
       "      <td>AF01SAHR.JPG</td>\n",
       "      <td>sadness</td>\n",
       "      <td>5</td>\n",
       "    </tr>\n",
       "    <tr>\n",
       "      <th>4</th>\n",
       "      <td>./KDEF_and_AKDEF/sorted_set/sadness</td>\n",
       "      <td>AF01SAS.JPG</td>\n",
       "      <td>sadness</td>\n",
       "      <td>5</td>\n",
       "    </tr>\n",
       "  </tbody>\n",
       "</table>\n",
       "</div>"
      ],
      "text/plain": [
       "                                folder         image  Emotion  Labels\n",
       "0  ./KDEF_and_AKDEF/sorted_set/sadness  AF01SAFL.JPG  sadness       5\n",
       "1  ./KDEF_and_AKDEF/sorted_set/sadness  AF01SAFR.JPG  sadness       5\n",
       "2  ./KDEF_and_AKDEF/sorted_set/sadness  AF01SAHL.JPG  sadness       5\n",
       "3  ./KDEF_and_AKDEF/sorted_set/sadness  AF01SAHR.JPG  sadness       5\n",
       "4  ./KDEF_and_AKDEF/sorted_set/sadness   AF01SAS.JPG  sadness       5"
      ]
     },
     "execution_count": 132,
     "metadata": {},
     "output_type": "execute_result"
    }
   ],
   "source": [
    "sadness = glob.glob(\"./KDEF_and_AKDEF/sorted_set/sadness/*\")\n",
    "print(\"Number of images in sadness emotion = \"+str(len(sadness)))\n",
    "\n",
    "sadness_folder = [os.path.dirname(i) for i in sadness]\n",
    "sadness_image = [str(i.split(\"/\")[-1]) for i in sadness]\n",
    "sadness_emotion = [[\"sadness\"]*len(sadness)][0]\n",
    "sadness_label = [5]*len(sadness)\n",
    "\n",
    "df_sadness = pd.DataFrame()\n",
    "df_sadness[\"folder\"] = sadness_folder\n",
    "df_sadness[\"image\"] = sadness_image\n",
    "df_sadness[\"Emotion\"] = sadness_emotion\n",
    "df_sadness[\"Labels\"] = sadness_label\n",
    "df_sadness.head()"
   ]
  },
  {
   "cell_type": "code",
   "execution_count": 133,
   "metadata": {},
   "outputs": [
    {
     "name": "stdout",
     "output_type": "stream",
     "text": [
      "Number of images in surprise emotion = 1398\n"
     ]
    },
    {
     "data": {
      "text/html": [
       "<div>\n",
       "<style scoped>\n",
       "    .dataframe tbody tr th:only-of-type {\n",
       "        vertical-align: middle;\n",
       "    }\n",
       "\n",
       "    .dataframe tbody tr th {\n",
       "        vertical-align: top;\n",
       "    }\n",
       "\n",
       "    .dataframe thead th {\n",
       "        text-align: right;\n",
       "    }\n",
       "</style>\n",
       "<table border=\"1\" class=\"dataframe\">\n",
       "  <thead>\n",
       "    <tr style=\"text-align: right;\">\n",
       "      <th></th>\n",
       "      <th>folder</th>\n",
       "      <th>image</th>\n",
       "      <th>Emotion</th>\n",
       "      <th>Labels</th>\n",
       "    </tr>\n",
       "  </thead>\n",
       "  <tbody>\n",
       "    <tr>\n",
       "      <th>0</th>\n",
       "      <td>./KDEF_and_AKDEF/sorted_set/surprise</td>\n",
       "      <td>AF01SUFL.JPG</td>\n",
       "      <td>surprise</td>\n",
       "      <td>6</td>\n",
       "    </tr>\n",
       "    <tr>\n",
       "      <th>1</th>\n",
       "      <td>./KDEF_and_AKDEF/sorted_set/surprise</td>\n",
       "      <td>AF01SUFR.JPG</td>\n",
       "      <td>surprise</td>\n",
       "      <td>6</td>\n",
       "    </tr>\n",
       "    <tr>\n",
       "      <th>2</th>\n",
       "      <td>./KDEF_and_AKDEF/sorted_set/surprise</td>\n",
       "      <td>AF01SUHL.JPG</td>\n",
       "      <td>surprise</td>\n",
       "      <td>6</td>\n",
       "    </tr>\n",
       "    <tr>\n",
       "      <th>3</th>\n",
       "      <td>./KDEF_and_AKDEF/sorted_set/surprise</td>\n",
       "      <td>AF01SUHR.JPG</td>\n",
       "      <td>surprise</td>\n",
       "      <td>6</td>\n",
       "    </tr>\n",
       "    <tr>\n",
       "      <th>4</th>\n",
       "      <td>./KDEF_and_AKDEF/sorted_set/surprise</td>\n",
       "      <td>AF01SUS.JPG</td>\n",
       "      <td>surprise</td>\n",
       "      <td>6</td>\n",
       "    </tr>\n",
       "  </tbody>\n",
       "</table>\n",
       "</div>"
      ],
      "text/plain": [
       "                                 folder         image   Emotion  Labels\n",
       "0  ./KDEF_and_AKDEF/sorted_set/surprise  AF01SUFL.JPG  surprise       6\n",
       "1  ./KDEF_and_AKDEF/sorted_set/surprise  AF01SUFR.JPG  surprise       6\n",
       "2  ./KDEF_and_AKDEF/sorted_set/surprise  AF01SUHL.JPG  surprise       6\n",
       "3  ./KDEF_and_AKDEF/sorted_set/surprise  AF01SUHR.JPG  surprise       6\n",
       "4  ./KDEF_and_AKDEF/sorted_set/surprise   AF01SUS.JPG  surprise       6"
      ]
     },
     "execution_count": 133,
     "metadata": {},
     "output_type": "execute_result"
    }
   ],
   "source": [
    "surprise = glob.glob(\"./KDEF_and_AKDEF/sorted_set/surprise/*\")\n",
    "print(\"Number of images in surprise emotion = \"+str(len(surprise)))\n",
    "\n",
    "surprise_folder = [os.path.dirname(i) for i in surprise]\n",
    "surprise_image = [str(i.split(\"/\")[-1]) for i in surprise]\n",
    "surprise_emotion = [[\"surprise\"]*len(surprise)][0]\n",
    "surprise_label = [6]*len(surprise)\n",
    "\n",
    "df_surprise = pd.DataFrame()\n",
    "df_surprise[\"folder\"] = surprise_folder\n",
    "df_surprise[\"image\"] = surprise_image\n",
    "df_surprise[\"Emotion\"] = surprise_emotion\n",
    "df_surprise[\"Labels\"] = surprise_label\n",
    "df_surprise.head()"
   ]
  },
  {
   "cell_type": "code",
   "execution_count": 134,
   "metadata": {},
   "outputs": [
    {
     "data": {
      "text/plain": [
       "(9796, 4)"
      ]
     },
     "execution_count": 134,
     "metadata": {},
     "output_type": "execute_result"
    }
   ],
   "source": [
    "data = [df_anger, df_disgust, df_fear, df_happy, df_neutral, df_sadness, df_surprise]\n",
    "data = pd.concat(data)\n",
    "data.shape"
   ]
  },
  {
   "cell_type": "code",
   "execution_count": 135,
   "metadata": {},
   "outputs": [
    {
     "data": {
      "text/html": [
       "<div>\n",
       "<style scoped>\n",
       "    .dataframe tbody tr th:only-of-type {\n",
       "        vertical-align: middle;\n",
       "    }\n",
       "\n",
       "    .dataframe tbody tr th {\n",
       "        vertical-align: top;\n",
       "    }\n",
       "\n",
       "    .dataframe thead th {\n",
       "        text-align: right;\n",
       "    }\n",
       "</style>\n",
       "<table border=\"1\" class=\"dataframe\">\n",
       "  <thead>\n",
       "    <tr style=\"text-align: right;\">\n",
       "      <th></th>\n",
       "      <th>folder</th>\n",
       "      <th>image</th>\n",
       "      <th>Emotion</th>\n",
       "      <th>Labels</th>\n",
       "    </tr>\n",
       "  </thead>\n",
       "  <tbody>\n",
       "    <tr>\n",
       "      <th>0</th>\n",
       "      <td>./KDEF_and_AKDEF/sorted_set/happy</td>\n",
       "      <td>Gauss_BF30HAFL.JPG</td>\n",
       "      <td>happy</td>\n",
       "      <td>3</td>\n",
       "    </tr>\n",
       "    <tr>\n",
       "      <th>1</th>\n",
       "      <td>./KDEF_and_AKDEF/sorted_set/surprise</td>\n",
       "      <td>AF16SUS.JPG</td>\n",
       "      <td>surprise</td>\n",
       "      <td>6</td>\n",
       "    </tr>\n",
       "    <tr>\n",
       "      <th>2</th>\n",
       "      <td>./KDEF_and_AKDEF/sorted_set/fear</td>\n",
       "      <td>Gauss_AM14AFFR.JPG</td>\n",
       "      <td>fear</td>\n",
       "      <td>2</td>\n",
       "    </tr>\n",
       "    <tr>\n",
       "      <th>3</th>\n",
       "      <td>./KDEF_and_AKDEF/sorted_set/disgust</td>\n",
       "      <td>BF26DIHR.JPG</td>\n",
       "      <td>disgust</td>\n",
       "      <td>1</td>\n",
       "    </tr>\n",
       "    <tr>\n",
       "      <th>4</th>\n",
       "      <td>./KDEF_and_AKDEF/sorted_set/fear</td>\n",
       "      <td>BF07AFS.JPG</td>\n",
       "      <td>fear</td>\n",
       "      <td>2</td>\n",
       "    </tr>\n",
       "  </tbody>\n",
       "</table>\n",
       "</div>"
      ],
      "text/plain": [
       "                                 folder               image   Emotion  Labels\n",
       "0     ./KDEF_and_AKDEF/sorted_set/happy  Gauss_BF30HAFL.JPG     happy       3\n",
       "1  ./KDEF_and_AKDEF/sorted_set/surprise         AF16SUS.JPG  surprise       6\n",
       "2      ./KDEF_and_AKDEF/sorted_set/fear  Gauss_AM14AFFR.JPG      fear       2\n",
       "3   ./KDEF_and_AKDEF/sorted_set/disgust        BF26DIHR.JPG   disgust       1\n",
       "4      ./KDEF_and_AKDEF/sorted_set/fear         BF07AFS.JPG      fear       2"
      ]
     },
     "execution_count": 135,
     "metadata": {},
     "output_type": "execute_result"
    }
   ],
   "source": [
    "data.reset_index(inplace = True, drop = True)\n",
    "data = data.sample(frac = 1.0)   #shuffling the dataframe\n",
    "data.reset_index(inplace = True, drop = True)\n",
    "data.head()"
   ]
  },
  {
   "cell_type": "code",
   "execution_count": 136,
   "metadata": {},
   "outputs": [],
   "source": [
    "def convert_to_gray(df):\n",
    "    count = 0\n",
    "    for i in range(len(df)):\n",
    "        path1 = df[\"folder\"][i]\n",
    "        path2 = df[\"image\"][i]\n",
    "        img = cv2.imread(os.path.join(path1, path2))\n",
    "        gray = cv2.cvtColor(img, cv2.COLOR_BGR2GRAY)\n",
    "        cv2.imwrite(os.path.join(path1, path2), gray)\n",
    "        count += 1\n",
    "    print(\"Total number of images converted and saved = \"+str(count))"
   ]
  },
  {
   "cell_type": "code",
   "execution_count": 137,
   "metadata": {},
   "outputs": [
    {
     "name": "stdout",
     "output_type": "stream",
     "text": [
      "Total number of images converted and saved = 9796\n"
     ]
    }
   ],
   "source": [
    "convert_to_gray(data)"
   ]
  },
  {
   "cell_type": "code",
   "execution_count": 138,
   "metadata": {},
   "outputs": [
    {
     "data": {
      "text/plain": [
       "(762, 562, 3)"
      ]
     },
     "execution_count": 138,
     "metadata": {},
     "output_type": "execute_result"
    }
   ],
   "source": [
    "path1 = data[\"folder\"][1]\n",
    "path2 = data[\"image\"][1]\n",
    "img = cv2.imread(os.path.join(path1, path2))\n",
    "img.shape"
   ]
  },
  {
   "cell_type": "code",
   "execution_count": 139,
   "metadata": {},
   "outputs": [],
   "source": [
    "face_cascade = cv2.CascadeClassifier('haarcascade_frontalface_default.xml') "
   ]
  },
  {
   "cell_type": "code",
   "execution_count": 140,
   "metadata": {},
   "outputs": [],
   "source": [
    "def face_det_crop_resize(img_path):\n",
    "    img = cv2.imread(img_path)\n",
    "    gray = cv2.cvtColor(img, cv2.COLOR_BGR2GRAY)\n",
    "    faces = face_cascade.detectMultiScale(gray, 1.3, 5)\n",
    "    \n",
    "    for (x,y,w,h) in faces:\n",
    "        face_clip = img[y:y+h, x:x+w]  #cropping the face in image\n",
    "        cv2.imwrite(img_path, cv2.resize(face_clip, (350, 350)))  #resizing image then saving it"
   ]
  },
  {
   "cell_type": "code",
   "execution_count": 141,
   "metadata": {},
   "outputs": [],
   "source": [
    "for i, d in data.iterrows():\n",
    "    img_path = os.path.join(d[\"folder\"], d[\"image\"])\n",
    "    face_det_crop_resize(img_path)"
   ]
  },
  {
   "cell_type": "code",
   "execution_count": 142,
   "metadata": {},
   "outputs": [],
   "source": [
    "def crop_resize(img_path):\n",
    "    img = cv2.imread(img_path)\n",
    "    cv2.imwrite(img_path, cv2.resize(img, (350, 350)))  #resizing image then saving it"
   ]
  },
  {
   "cell_type": "code",
   "execution_count": 143,
   "metadata": {},
   "outputs": [],
   "source": [
    "for i, d in data.iterrows():\n",
    "    img_path = os.path.join(d[\"folder\"], d[\"image\"])\n",
    "    crop_resize(img_path)"
   ]
  },
  {
   "cell_type": "code",
   "execution_count": 144,
   "metadata": {},
   "outputs": [],
   "source": [
    "data.to_pickle(\"dataframe_aug.pkl\")"
   ]
  },
  {
   "cell_type": "code",
   "execution_count": 21,
   "metadata": {},
   "outputs": [],
   "source": [
    "def convert_img_to_gray(img_path):\n",
    "    img = cv2.imread(img_path)\n",
    "    gray = cv2.cvtColor(img, cv2.COLOR_BGR2GRAY)\n",
    "    cv2.imwrite(img_path, gray)\n"
   ]
  },
  {
   "cell_type": "code",
   "execution_count": 22,
   "metadata": {},
   "outputs": [],
   "source": [
    "convert_img_to_gray('Real_data/happy.jpg')\n",
    "face_det_crop_resize('Real_data/happy.jpg')"
   ]
  },
  {
   "cell_type": "code",
   "execution_count": 23,
   "metadata": {},
   "outputs": [],
   "source": [
    "convert_img_to_gray('Real_data/angry.jpg')\n",
    "face_det_crop_resize('Real_data/angry.jpg')\n",
    "convert_img_to_gray('Real_data/sad.jpg')\n",
    "face_det_crop_resize('Real_data/sad.jpg')\n",
    "convert_img_to_gray('Real_data/surprise.jpg')\n",
    "face_det_crop_resize('Real_data/surprise.jpg')"
   ]
  },
  {
   "cell_type": "code",
   "execution_count": 50,
   "metadata": {},
   "outputs": [],
   "source": [
    "img = cv2.imread('Real_data/sad.jpg')"
   ]
  }
 ],
 "metadata": {
  "kernelspec": {
   "display_name": "Python 3",
   "language": "python",
   "name": "python3"
  },
  "language_info": {
   "codemirror_mode": {
    "name": "ipython",
    "version": 3
   },
   "file_extension": ".py",
   "mimetype": "text/x-python",
   "name": "python",
   "nbconvert_exporter": "python",
   "pygments_lexer": "ipython3",
   "version": "3.6.7"
  }
 },
 "nbformat": 4,
 "nbformat_minor": 2
}
